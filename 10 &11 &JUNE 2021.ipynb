{
 "cells": [
  {
   "cell_type": "markdown",
   "metadata": {},
   "source": [
    "## if..elif..else"
   ]
  },
  {
   "cell_type": "code",
   "execution_count": null,
   "metadata": {},
   "outputs": [],
   "source": [
    "syntax\n",
    "if(condition):\n",
    "     statements\n",
    "elif(condition):\n",
    "    statements\n",
    "elif(condition):\n",
    "    statements\n",
    "    ---\n",
    "    --\n",
    "    ---\n",
    "else:\n",
    "    statementsi\n"
   ]
  },
  {
   "cell_type": "code",
   "execution_count": null,
   "metadata": {},
   "outputs": [],
   "source": [
    "#i/p=5\n",
    "#o/p=Five\n",
    "#i/p=0\n",
    "#o/p=Zero\n",
    "\n",
    "n=int(input(\"enter an number:\"))\n",
    "if(n==0):\n",
    "    print(\"Zero\")\n",
    "elif(n==1):\n",
    "    print(\"One\")\n",
    "elif(n==2):\n",
    "    print(\"Two\")\n",
    "elif(n==3):\n",
    "    print(\"Three\")\n",
    "elif(n==4):\n",
    "    print(\"Four\")\n",
    "elif(n==5):\n",
    "    print(\"Five\")\n",
    "else:\n",
    "    print(\"invalid\")\n",
    "\n",
    "\n"
   ]
  },
  {
   "cell_type": "code",
   "execution_count": null,
   "metadata": {},
   "outputs": [],
   "source": [
    "#mathematical operations\n",
    "#i/p=+,4,5\n",
    "#o/p=9\n",
    "#i/p=-,4,5\n",
    "#o/p=1\n",
    "\n",
    "a=int(input(\"enter a number\"))\n",
    "b=int(input(\"enter a number\"))\n",
    "op=input(\"enter operator\")\n",
    "if(op==\"+\"):\n",
    "    print(a+b)\n",
    "elif(op==\"-\"):\n",
    "    print(a-b)\n",
    "elif(op==\"*\"):\n",
    "    print(a*b)\n",
    "elif(op==\"*\"):\n",
    "    print(a*b)\n",
    "elif(op==\"/\"):\n",
    "    print(a/b)\n",
    "elif(op==\"%\"):\n",
    "    print(a%b)\n",
    "else:\n",
    "    print(\"invalid\")\n",
    "\n",
    "\n",
    "\n",
    "\n",
    "\n",
    "\n",
    "\n",
    "\n"
   ]
  },
  {
   "cell_type": "code",
   "execution_count": null,
   "metadata": {},
   "outputs": [],
   "source": [
    "#nested if\n",
    "if(condition):\n",
    "    if(condition):\n",
    "        statements\n",
    "    else:\n",
    "         statements\n",
    "    \n"
   ]
  },
  {
   "cell_type": "code",
   "execution_count": null,
   "metadata": {},
   "outputs": [],
   "source": [
    "#i/p=userid=1....150\n",
    "#o/p=pwrd:12345\n",
    "#if u enter user id,check if it exist in 1 to 150,if it exists ,enter pwd\n",
    "#u_id\n",
    "#pwd=12345\n",
    "#success\n",
    "u_i=int(input(\"enter an user_id\"))\n",
    "if(u_i>=1 and u_i<=150):\n",
    "    pwd=int(input(print('enter pwd')))\n",
    "    if(pwd==12345):\n",
    "        print(\"success\")\n",
    "    else:\n",
    "        print(\"wrong password\")\n",
    "else:\n",
    "    print(\"invalid user\")\n",
    "    "
   ]
  },
  {
   "cell_type": "markdown",
   "metadata": {},
   "source": [
    "# iteration(loops)\n",
    "repeat the sequence of code until a specific condition is false"
   ]
  },
  {
   "cell_type": "markdown",
   "metadata": {},
   "source": [
    "### for loop\n",
    " syntax\n",
    "for variable in range(start,end,step):\n",
    " statements/logic"
   ]
  },
  {
   "cell_type": "code",
   "execution_count": null,
   "metadata": {},
   "outputs": [],
   "source": [
    "for i in range(1,10,5):\n",
    "    print(i)"
   ]
  },
  {
   "cell_type": "code",
   "execution_count": null,
   "metadata": {},
   "outputs": [],
   "source": [
    "for i in range(5):\n",
    "    print(i)"
   ]
  },
  {
   "cell_type": "code",
   "execution_count": null,
   "metadata": {},
   "outputs": [],
   "source": [
    "for i in range(5):        #end=\" \" used to print them horizontally\n",
    "    #end is called as attribute\n",
    "    print(i,end=' ')"
   ]
  },
  {
   "cell_type": "code",
   "execution_count": null,
   "metadata": {},
   "outputs": [],
   "source": [
    "for i in range(5):\n",
    "    print(i,end='$')                                                #end=\" \" used to print them horizontally\n",
    "                                                                       #end is called as attribute "
   ]
  },
  {
   "cell_type": "code",
   "execution_count": null,
   "metadata": {},
   "outputs": [],
   "source": [
    "for i in range(10,0,-1):\n",
    "    print(i,end=',,')"
   ]
  },
  {
   "cell_type": "code",
   "execution_count": null,
   "metadata": {},
   "outputs": [],
   "source": [
    "#i/p:10\n",
    "#o/p:sum of 10 nums is 55\n",
    "n=int(input(\"enter a number \"))\n",
    "s=0\n",
    "for i in range(1,n+1):\n",
    "    s=s+i\n",
    "print(\"sum of \",n,\"numbers is:\",s)"
   ]
  },
  {
   "cell_type": "code",
   "execution_count": null,
   "metadata": {},
   "outputs": [],
   "source": [
    "sr=int(input(\"enter a num\"))\n",
    "er=int(input(\"enter a num\"))\n",
    "s=0\n",
    "for i in range(sr,er+1):\n",
    "       s=s+i\n",
    "print(s)\n",
    "       "
   ]
  },
  {
   "cell_type": "code",
   "execution_count": null,
   "metadata": {},
   "outputs": [],
   "source": [
    "#table\n",
    "##5\n",
    "#5*1=5\n",
    "--\n",
    "--\n",
    "--\n",
    "#5*10=50\n",
    "u=int(input(\"number\"))\n",
    "for i in range(1,11):\n",
    "    print(u,\"*\",i,\"=\",u*i)\n",
    "    \n"
   ]
  },
  {
   "cell_type": "code",
   "execution_count": null,
   "metadata": {},
   "outputs": [],
   "source": [
    "#alphabets      #ord,chr used to return ascii value of alphabet\n",
    "#a to z\n",
    "#A to Z\n",
    "\n",
    "\n",
    "print(ord('a'))\n",
    "print(ord('A'))\n",
    "\n"
   ]
  },
  {
   "cell_type": "code",
   "execution_count": null,
   "metadata": {},
   "outputs": [],
   "source": [
    "print(chr(99)) #to check character from ascii value\n",
    "print(chr(56))\n",
    "print(chr(456))"
   ]
  },
  {
   "cell_type": "code",
   "execution_count": null,
   "metadata": {},
   "outputs": [],
   "source": [
    "#based on ascii\n",
    "print(\"lower case lettwrs are\")\n",
    "for i in range(97 to 122):\n",
    "    print(chr(i),end=\" \")\n",
    "print(\"upper case lettwrs are\")\n",
    "for k in range(65 to 91):\n",
    "    print(chr(k),end=\" \")\n",
    "\n"
   ]
  },
  {
   "cell_type": "code",
   "execution_count": null,
   "metadata": {},
   "outputs": [],
   "source": [
    "#1.....10\n",
    "#even,odd\n",
    "a=int(input(\"enter num\"))\n",
    "b=int(input(\"enter num\"))\n",
    "print(\"even numbers are\")\n",
    "for i in range(a,b+1):\n",
    "    if(i%2==0):\n",
    "        print(i,end=\"\")\n",
    "        "
   ]
  },
  {
   "cell_type": "code",
   "execution_count": 5,
   "metadata": {},
   "outputs": [
    {
     "name": "stdout",
     "output_type": "stream",
     "text": [
      "enter num4\n",
      "its not prime\n",
      "its prime\n"
     ]
    }
   ],
   "source": [
    "#prime nos\n",
    "num=int(input(\"enter num\"))\n",
    "if num>1:\n",
    "    for i in range(2,num):\n",
    "        if(num%i==0):\n",
    "            print(\"its not prime\")\n",
    "        else:\n",
    "             print(\"its prime\")\n",
    "else:\n",
    "    print(\"its not prime\")\n"
   ]
  },
  {
   "cell_type": "markdown",
   "metadata": {},
   "source": [
    "# # tasks\n",
    "### positive or negative\n",
    "### check given no is divisible by 5 and 11\n",
    "### days printing\n",
    "#### (0-12) print as child\n",
    "   (13-18) teenager\n",
    "      (19-59)adult\n",
    "      (60 and above) senior citizen\n",
    "#### check given i/p is digit or alphabet or special symbol"
   ]
  },
  {
   "cell_type": "code",
   "execution_count": null,
   "metadata": {},
   "outputs": [],
   "source": [
    "### 2\n",
    "n=int(input(\"enter a num\"))\n",
    "if(n>0):\n",
    "    print(n,\"is positive number\")\n",
    "elif n==0:\n",
    "    print(\"zero\")\n",
    "else:\n",
    "    print(\"it is negative number\")"
   ]
  },
  {
   "cell_type": "code",
   "execution_count": null,
   "metadata": {},
   "outputs": [],
   "source": [
    "m=int(input(\"enter a num\"))\n",
    "if(m%11==0)and(m%5==0):\n",
    "    print(m,\"is divisible by 5 and 11\")\n",
    "else:\n",
    "    print(m,\"is not divisible by 5 and 11\")"
   ]
  },
  {
   "cell_type": "code",
   "execution_count": null,
   "metadata": {},
   "outputs": [],
   "source": [
    "t=int(input(\"enter num\"))\n",
    "if(t==1):\n",
    "    print(\"sunday\")\n",
    "elif(t==2):\n",
    "    print(\"monday\")\n",
    "elif(t==3):\n",
    "    print(\"tueday\")\n",
    "elif(t==4):\n",
    "    print(\"wednesday\")\n",
    "elif(t==5):\n",
    "    print(\"thursday\")\n",
    "elif(t==6):\n",
    "    print(\"friday\")\n",
    "elif(t==7):\n",
    "    print(\"saturday\")\n",
    "else:\n",
    "    print(\"wrong decision\")"
   ]
  },
  {
   "cell_type": "code",
   "execution_count": null,
   "metadata": {},
   "outputs": [],
   "source": []
  },
  {
   "cell_type": "code",
   "execution_count": null,
   "metadata": {},
   "outputs": [],
   "source": [
    "s=int(input(\"enter a num\"))\n",
    "if(s>=0 and s<=12):\n",
    "    print(s,\"is child\")\n",
    "elif(s>=13 and s<=18):\n",
    "    print(s,\"is teenager\")\n",
    "elif(s>=19 and s<=59):\n",
    "    print(s,\"is adult\")\n",
    "else:\n",
    "    print(s,\"is senior citizen\")"
   ]
  },
  {
   "cell_type": "code",
   "execution_count": null,
   "metadata": {},
   "outputs": [],
   "source": [
    "ch = input(\"Please Enter Your Own Character : \")\n",
    "\n",
    "if((ch >= 'a' and ch <= 'z') or (ch >= 'A' and ch <= 'Z')): \n",
    "    print(\"The Given Character \", ch, \"is an Alphabet\") \n",
    "elif(ch >= '0' and ch <= '9'):\n",
    "    print(\"The Given Character \", ch, \"is a Digit\")\n",
    "else:\n",
    "    print(\"The Given Character \", ch, \"is Not an Alphabet or a Digit\")"
   ]
  },
  {
   "cell_type": "code",
   "execution_count": null,
   "metadata": {},
   "outputs": [],
   "source": [
    "## factorial\n",
    "m=int(input(\"enter a num\"))\n",
    "fac=1\n",
    "if(m==0):\n",
    "    print(fac)\n",
    "else:\n",
    "    for i in range(1,m+1):\n",
    "        fac=fac*i\n",
    "    print(fac)"
   ]
  },
  {
   "cell_type": "markdown",
   "metadata": {},
   "source": [
    "## while loop\n",
    "used to repeat code as long as condition false\n",
    "syntax:\n",
    " initialization\n",
    "  while(condition):\n",
    "    statements\n",
    "     incr/decr\n",
    "number of iterationss unknown\n",
    " "
   ]
  },
  {
   "cell_type": "code",
   "execution_count": null,
   "metadata": {},
   "outputs": [],
   "source": [
    "### n natural\n",
    "m=int(input(\"enter a num\"))\n",
    "i=1\n",
    "while(i<=m):  #1<=10,2<=10...10<=10\n",
    "    print(i,end=' ')\n",
    "    i+=1\n",
    "\n",
    "\n"
   ]
  },
  {
   "cell_type": "code",
   "execution_count": null,
   "metadata": {},
   "outputs": [],
   "source": [
    "m=int(input(\"enter a num\"))\n",
    "i=10\n",
    "while(i>=m):  #1<=10,2<=10...10<=10\n",
    "    print(i,end=' ')\n",
    "    i-=1"
   ]
  },
  {
   "cell_type": "code",
   "execution_count": null,
   "metadata": {},
   "outputs": [],
   "source": [
    "## input=5678\n",
    "#o/p:4\n",
    "##to display no of digits      \n",
    "n=int(input(\"num\"))\n",
    "count=0\n",
    "sum=0\n",
    "while(n!=0):     #//=567//10=56\n",
    "    rem=n%10\n",
    "    n=n//10\n",
    "    count=count+1\n",
    "    sum=sum+rem\n",
    "print(count)\n",
    "print(sum)\n",
    "\n",
    "\n"
   ]
  },
  {
   "cell_type": "code",
   "execution_count": null,
   "metadata": {},
   "outputs": [],
   "source": [
    "### reverse of number\n",
    "r=int(input(\"num\"))\n",
    "rev=0\n",
    "while(r!=0):\n",
    "    rem=r%10\n",
    "    rev=rev*10+rem\n",
    "    r=r//10\n",
    "print(rev)\n",
    "     \n",
    "\n",
    "\n"
   ]
  },
  {
   "cell_type": "code",
   "execution_count": null,
   "metadata": {},
   "outputs": [],
   "source": []
  },
  {
   "cell_type": "markdown",
   "metadata": {},
   "source": [
    "# tasks\n",
    " #### n natural numbers sum using  while loop\n",
    " #### check given no is perfect or not using for loop(factors sum=original number)\n",
    " \n",
    " \n",
    " #### check given no is palyndrome or not using while loop(121=121)\n",
    " #### check given no is armstrong or not using for loop(153=1^3+5^3+3^3=1+125+27=153)\n",
    " "
   ]
  },
  {
   "cell_type": "code",
   "execution_count": 2,
   "metadata": {},
   "outputs": [
    {
     "name": "stdout",
     "output_type": "stream",
     "text": [
      "enter num10\n",
      "55\n"
     ]
    }
   ],
   "source": [
    "n=int(input(\"enter num\"))\n",
    "i=0\n",
    "while(n>0):\n",
    "    i=n+i\n",
    "    n-=1\n",
    "print(i)\n",
    "    "
   ]
  },
  {
   "cell_type": "code",
   "execution_count": null,
   "metadata": {},
   "outputs": [],
   "source": [
    "n=int(input(\"enter num  \"))\n",
    "c=0\n",
    "for i in range(1,n):\n",
    "    if(n%i==0):\n",
    "        c=c+i\n",
    "if(c==n):\n",
    "    print(\"perfect\")\n",
    "else:\n",
    "    print(\"not perfect\")\n",
    "    \n",
    "    "
   ]
  },
  {
   "cell_type": "code",
   "execution_count": null,
   "metadata": {},
   "outputs": [],
   "source": [
    "n=int(input(\"enter num  \"))\n",
    "c=0\n",
    "while(n%i==0):\n",
    "    c=c+i\n",
    "    i+=1\n",
    "    \n",
    "print('perfect')\n",
    "    \n"
   ]
  },
  {
   "cell_type": "code",
   "execution_count": null,
   "metadata": {},
   "outputs": [],
   "source": [
    "n=int(input(\"enter a num  \"))\n",
    "temp=n\n",
    "pal=0\n",
    "while(n!=0):\n",
    "        rem=n%10\n",
    "        pal=pal*10+rem\n",
    "        n=n//10\n",
    "if(temp==pal):\n",
    "    print(\"its palyndrome\")\n",
    "else:\n",
    "    print(\"its not palyndrome\")\n",
    "\n",
    "\n",
    "    "
   ]
  },
  {
   "cell_type": "code",
   "execution_count": 1,
   "metadata": {},
   "outputs": [
    {
     "name": "stdout",
     "output_type": "stream",
     "text": [
      "enter a number  456\n",
      "it is not armstrong\n"
     ]
    }
   ],
   "source": [
    "m=int(input(\"enter a number  \"))\n",
    "temp=m\n",
    "r=0\n",
    "while(m>0):\n",
    "    digit=m%10\n",
    "    r=digit**3+r\n",
    "    m=m//10\n",
    "if(temp==r):\n",
    "    print(\"it is armstrong\")\n",
    "else:\n",
    "    print(\"it is not armstrong\")\n",
    "    "
   ]
  },
  {
   "cell_type": "code",
   "execution_count": null,
   "metadata": {},
   "outputs": [],
   "source": [
    "###### "
   ]
  },
  {
   "cell_type": "code",
   "execution_count": null,
   "metadata": {},
   "outputs": [],
   "source": []
  },
  {
   "cell_type": "code",
   "execution_count": null,
   "metadata": {},
   "outputs": [],
   "source": []
  },
  {
   "cell_type": "code",
   "execution_count": null,
   "metadata": {},
   "outputs": [],
   "source": []
  },
  {
   "cell_type": "code",
   "execution_count": null,
   "metadata": {},
   "outputs": [],
   "source": []
  },
  {
   "cell_type": "code",
   "execution_count": null,
   "metadata": {},
   "outputs": [],
   "source": [
    "\n",
    "\n",
    "\n",
    "\n",
    "\n"
   ]
  }
 ],
 "metadata": {
  "kernelspec": {
   "display_name": "Python 3",
   "language": "python",
   "name": "python3"
  },
  "language_info": {
   "codemirror_mode": {
    "name": "ipython",
    "version": 3
   },
   "file_extension": ".py",
   "mimetype": "text/x-python",
   "name": "python",
   "nbconvert_exporter": "python",
   "pygments_lexer": "ipython3",
   "version": "3.8.5"
  }
 },
 "nbformat": 4,
 "nbformat_minor": 4
}
