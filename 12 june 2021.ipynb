{
 "cells": [
  {
   "cell_type": "markdown",
   "metadata": {},
   "source": [
    "## nested for"
   ]
  },
  {
   "cell_type": "code",
   "execution_count": null,
   "metadata": {},
   "outputs": [],
   "source": [
    "for variable in range(num):\n",
    "    statemets\n",
    "    for variable in range(num):\n",
    "        statemets\n",
    "        ----\n",
    "        ---\n",
    "        ---\n",
    "        "
   ]
  },
  {
   "cell_type": "code",
   "execution_count": null,
   "metadata": {},
   "outputs": [],
   "source": [
    "##prime numbers range\n",
    "##i/p 1---10\n",
    "##o/p 2357\n",
    "sr=int(input(\"enter starting range  \"))\n",
    "er=int(input(\"enter ending range  \"))\n",
    "for i in range(sr,er+1):\n",
    "    fc=0\n",
    "    for j in range(1,i+1):\n",
    "        if(i%j==0):\n",
    "            fc+=1\n",
    "        if(fc==2):\n",
    "            print(i,end=' ')"
   ]
  },
  {
   "cell_type": "code",
   "execution_count": null,
   "metadata": {},
   "outputs": [],
   "source": [
    "##perfect no series"
   ]
  },
  {
   "cell_type": "code",
   "execution_count": null,
   "metadata": {},
   "outputs": [],
   "source": [
    "#@ @ @ @\n",
    "#@ @ @ @\n",
    "#@ @ @ @\n",
    "#@ @ @ @\n",
    "for i in range(1,5):\n",
    "    for j in range(1,5):\n",
    "        print('@',end=' ')\n",
    "    print('\\n')\n"
   ]
  },
  {
   "cell_type": "code",
   "execution_count": null,
   "metadata": {},
   "outputs": [],
   "source": []
  },
  {
   "cell_type": "code",
   "execution_count": null,
   "metadata": {},
   "outputs": [],
   "source": [
    "n=int(input(\"enter a num : \"))\n",
    "m=int(input(\"enter a num : \"))\n",
    "if(n>m):\n",
    "    print(n)\n",
    "else:\n",
    "    print(m)"
   ]
  },
  {
   "cell_type": "code",
   "execution_count": 3,
   "metadata": {},
   "outputs": [
    {
     "name": "stdout",
     "output_type": "stream",
     "text": [
      "enter a num : 1\n",
      "1\n"
     ]
    }
   ],
   "source": [
    "n=int(input(\"enter a num : \"))\n",
    "fac=1\n",
    "for i in range(n,0,-1):\n",
    "    fac=i*fac\n",
    "print(fac)"
   ]
  },
  {
   "cell_type": "code",
   "execution_count": 53,
   "metadata": {},
   "outputs": [
    {
     "name": "stdout",
     "output_type": "stream",
     "text": [
      "enter a num : 6\n",
      "1  isnt prime\n",
      "its prime\n",
      "3  isnt prime\n",
      "4  isnt prime\n",
      "5  isnt prime\n"
     ]
    }
   ],
   "source": [
    "n=int(input(\"enter a num : \"))\n",
    "c=0\n",
    "for i in range(1,n):\n",
    "    if(n%i==0):\n",
    "        c=c+1\n",
    "    if(c==2):\n",
    "        print(\"its prime\")\n",
    "    else:\n",
    "         print(i,\" isnt prime\")\n",
    "    "
   ]
  },
  {
   "cell_type": "code",
   "execution_count": null,
   "metadata": {},
   "outputs": [],
   "source": []
  },
  {
   "cell_type": "code",
   "execution_count": null,
   "metadata": {},
   "outputs": [],
   "source": []
  }
 ],
 "metadata": {
  "kernelspec": {
   "display_name": "Python 3",
   "language": "python",
   "name": "python3"
  },
  "language_info": {
   "codemirror_mode": {
    "name": "ipython",
    "version": 3
   },
   "file_extension": ".py",
   "mimetype": "text/x-python",
   "name": "python",
   "nbconvert_exporter": "python",
   "pygments_lexer": "ipython3",
   "version": "3.8.5"
  }
 },
 "nbformat": 4,
 "nbformat_minor": 4
}
