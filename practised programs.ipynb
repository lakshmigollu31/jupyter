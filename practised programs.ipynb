{
 "cells": [
  {
   "cell_type": "markdown",
   "metadata": {},
   "source": [
    "# loop programs"
   ]
  },
  {
   "cell_type": "code",
   "execution_count": null,
   "metadata": {},
   "outputs": [],
   "source": [
    "year = int(input(\"Enter a year: \"))\n",
    "if (year % 4) == 0:\n",
    "   if (year % 100) == 0:\n",
    "       if (year % 400) == 0:\n",
    "           print(\"{0} is a leap year\".format(year))\n",
    "       else:\n",
    "           print(\"{0} is not a leap year\".format(year))\n",
    "   else:\n",
    "       print(\"{0} is a leap year\".format(year))\n",
    "else:\n",
    "   print(\"{0} is not a leap year\".format(year))\n"
   ]
  },
  {
   "cell_type": "code",
   "execution_count": null,
   "metadata": {},
   "outputs": [],
   "source": [
    "### gretaest among 3\n",
    "n1=int(input(\"enter a num \"))\n",
    "n2=int(input(\"enter a num \"))\n",
    "n3=int(input(\"enter a num \"))\n",
    "if(n1>=n2)and(n1>=n3):\n",
    "    temp=n1\n",
    "elif(n2>=n1)and(n2>=n3):\n",
    "    temp=n2\n",
    "else:\n",
    "    temp=n3\n",
    "print(f'greatest num is{temp}')"
   ]
  },
  {
   "cell_type": "code",
   "execution_count": null,
   "metadata": {},
   "outputs": [],
   "source": []
  },
  {
   "cell_type": "code",
   "execution_count": null,
   "metadata": {},
   "outputs": [],
   "source": [
    "n=int(input(\"enter a no  \"))\n",
    "p=0\n",
    "if(n>1):\n",
    "    for i in range(2,n+1):\n",
    "        if(n%i==0):\n",
    "            p=p+1\n",
    "    if(p==1):\n",
    "        print(n,\"is prime\")\n",
    "    else:\n",
    "        print(n,\"is not prime\")\n",
    "else:\n",
    "    (\"its not prime\")\n",
    "\n",
    "    "
   ]
  },
  {
   "cell_type": "code",
   "execution_count": null,
   "metadata": {},
   "outputs": [],
   "source": [
    "##all prime no in interval\n",
    "n=int(input(\"enter a no  \"))\n",
    "p=0\n",
    "if(n>1):\n",
    "    for i in range(2,n+1):\n",
    "        if(n%i==0):\n",
    "            p=p+1\n",
    "    if(p==1):\n",
    "        print(n,\"is prime\")\n",
    "    else:\n",
    "        print(n,\"is not prime\")\n",
    "else:\n",
    "    (\"its not prime\")\n"
   ]
  },
  {
   "cell_type": "code",
   "execution_count": null,
   "metadata": {},
   "outputs": [],
   "source": [
    "#factorial of number\n",
    "n=int(input(\"enter a number\"))\n",
    "fact=1\n",
    "if(n==0 or n==1):\n",
    "    print(\"factorial is 1\")\n",
    "else:\n",
    "    if(n>1):\n",
    "        for i in range(1,n+1):\n",
    "            fact=fact*i\n",
    "        print(f'factorial of {n} is {fact}')\n",
    "    else:\n",
    "        print(\"no factoarial!!!!\")"
   ]
  },
  {
   "cell_type": "code",
   "execution_count": null,
   "metadata": {
    "scrolled": true
   },
   "outputs": [],
   "source": [
    "#multiplication table\n",
    "n=int(input(\"enter a number\"))\n",
    "for i in range(1,n):\n",
    "    m=n*i\n",
    "    print(m)\n",
    "    m=0\n"
   ]
  },
  {
   "cell_type": "code",
   "execution_count": null,
   "metadata": {},
   "outputs": [],
   "source": [
    "###### fibonaci series\n",
    "n=int(input(\"enter a number\"))\n",
    "if(n>0):\n",
    "    n1=0;n2=1;t=0\n",
    "    for i in range(0,n+1):\n",
    "        if(n1<=n):\n",
    "            t=n1+n2\n",
    "            print(n1)\n",
    "            n1=n2\n",
    "            n2=t\n",
    "else:\n",
    "    (\"enter positive number\")\n",
    "    \n",
    "             "
   ]
  },
  {
   "cell_type": "code",
   "execution_count": null,
   "metadata": {},
   "outputs": [],
   "source": [
    "###### fibonaci series\n",
    "n=int(input(\"enter a number\"))\n",
    "if(n>0):\n",
    "    n1=0;n2=1;t=0\n",
    "    for i in range(0,n+1):\n",
    "        if(t<=n):\n",
    "            t=n1+n2\n",
    "            print(n1)\n",
    "            n1=n2\n",
    "            n2=t\n",
    "else:\n",
    "    (\"enter positive number\")\n",
    "    "
   ]
  },
  {
   "cell_type": "code",
   "execution_count": null,
   "metadata": {},
   "outputs": [],
   "source": [
    "##fibonaci series\n",
    "n=int(input(\"enter a number\"))\n",
    "n1,n2=0,1\n",
    "cout=1\n",
    "nth=0\n",
    "if n<=0:\n",
    "    print(\"enter positive number\")\n",
    "elif n==1:\n",
    "    print(n)\n",
    "    print(n1)\n",
    "else:\n",
    "    while(cout<=n):\n",
    "        print(n1)\n",
    "        nth=n1+n2\n",
    "        n1=n2\n",
    "        n2=nth\n",
    "        cout+=1\n"
   ]
  },
  {
   "cell_type": "code",
   "execution_count": 4,
   "metadata": {},
   "outputs": [
    {
     "name": "stdout",
     "output_type": "stream",
     "text": [
      "enter a number : 3553\n",
      "3553 is palindrome\n"
     ]
    }
   ],
   "source": [
    "## palindrome\n",
    "n=int(input('enter a number : '))\n",
    "s=p=0\n",
    "temp=n\n",
    "for i in range(0,3):\n",
    "    p=n%10\n",
    "    s=s*10+p\n",
    "    n=n//10\n",
    "if(s==temp):\n",
    "    print(temp,\"is palindrome\")\n",
    "else:\n",
    "    print(temp,\"is not palindrome\")\n",
    "    "
   ]
  },
  {
   "cell_type": "code",
   "execution_count": null,
   "metadata": {},
   "outputs": [],
   "source": [
    "## armstrong\n",
    "n=int(input(\"enter a number: \"))\n",
    "s,temp=0,n\n",
    "for i in range(0,3):\n",
    "    a=n%10\n",
    "    s=a**3+s\n",
    "    n=n//10\n",
    "if(s==temp):\n",
    "    print(temp,\"is armstrong number\")\n",
    "else:\n",
    "    print(temp,\"is not armstrong number\")"
   ]
  },
  {
   "cell_type": "code",
   "execution_count": null,
   "metadata": {},
   "outputs": [],
   "source": []
  },
  {
   "cell_type": "code",
   "execution_count": null,
   "metadata": {},
   "outputs": [],
   "source": []
  },
  {
   "cell_type": "code",
   "execution_count": null,
   "metadata": {},
   "outputs": [],
   "source": []
  }
 ],
 "metadata": {
  "kernelspec": {
   "display_name": "Python 3",
   "language": "python",
   "name": "python3"
  },
  "language_info": {
   "codemirror_mode": {
    "name": "ipython",
    "version": 3
   },
   "file_extension": ".py",
   "mimetype": "text/x-python",
   "name": "python",
   "nbconvert_exporter": "python",
   "pygments_lexer": "ipython3",
   "version": "3.8.5"
  }
 },
 "nbformat": 4,
 "nbformat_minor": 4
}
