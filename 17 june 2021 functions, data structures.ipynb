{
 "cells": [
  {
   "cell_type": "markdown",
   "metadata": {},
   "source": [
    "## functions\n",
    "#### arguments in functions\n",
    "   we are able to call afunction using these arguments\n",
    "## required arguments\n",
    "  arguments passes to a function in correct positional order\n",
    "## keyword arguments\n",
    "  identifies the arguments by parameter name\n",
    " ## default arguments\n",
    "  assumes default value if value is not specified\n",
    " ## variable length arguments\n",
    " process of funcyion for more arguments than you specified while definig the function\n"
   ]
  },
  {
   "cell_type": "code",
   "execution_count": 1,
   "metadata": {},
   "outputs": [
    {
     "name": "stdout",
     "output_type": "stream",
     "text": [
      "welcome lucky\n"
     ]
    }
   ],
   "source": [
    "## requird arguments\n",
    "def hii(name):              #( with argumennts without return)\n",
    "    print('welcome',name)\n",
    "hii('lucky')"
   ]
  },
  {
   "cell_type": "code",
   "execution_count": 2,
   "metadata": {},
   "outputs": [
    {
     "name": "stdout",
     "output_type": "stream",
     "text": [
      "663\n",
      "ece1\n"
     ]
    }
   ],
   "source": [
    "## keyword arguments\n",
    "def details(number,branch):\n",
    "    print(number)\n",
    "    print(branch)\n",
    "details(branch='ece1',number=663)"
   ]
  },
  {
   "cell_type": "code",
   "execution_count": 3,
   "metadata": {},
   "outputs": [
    {
     "name": "stdout",
     "output_type": "stream",
     "text": [
      "123\n",
      "ece\n"
     ]
    }
   ],
   "source": [
    "## default arguments\n",
    "def details(number,branch='ece'):\n",
    "    print(number)\n",
    "    print(branch)\n",
    "details(123,)"
   ]
  },
  {
   "cell_type": "code",
   "execution_count": 4,
   "metadata": {},
   "outputs": [
    {
     "name": "stdout",
     "output_type": "stream",
     "text": [
      "2\n",
      "hi welcome here "
     ]
    }
   ],
   "source": [
    "## variable length argumenst\n",
    "def funcv(n,*args):\n",
    "    print(n)\n",
    "    for i in args:\n",
    "        print(i,end=' ')\n",
    "funcv(2,'hi','welcome','here')"
   ]
  },
  {
   "cell_type": "code",
   "execution_count": 5,
   "metadata": {},
   "outputs": [
    {
     "name": "stdout",
     "output_type": "stream",
     "text": [
      "2 ('hi', 'welcome', 'here')\n"
     ]
    }
   ],
   "source": [
    "def funcv(n,*args):\n",
    "    print(n,args)\n",
    "funcv(2,'hi','welcome','here')"
   ]
  },
  {
   "cell_type": "code",
   "execution_count": 6,
   "metadata": {},
   "outputs": [
    {
     "data": {
      "text/plain": [
       "100"
      ]
     },
     "execution_count": 6,
     "metadata": {},
     "output_type": "execute_result"
    }
   ],
   "source": [
    "def abcd(num):\n",
    "    output=num*num\n",
    "    return output\n",
    "num=10\n",
    "res=abcd(num)\n",
    "res"
   ]
  },
  {
   "cell_type": "code",
   "execution_count": 7,
   "metadata": {},
   "outputs": [
    {
     "data": {
      "text/plain": [
       "False"
      ]
     },
     "execution_count": 7,
     "metadata": {},
     "output_type": "execute_result"
    }
   ],
   "source": [
    "#leap year\n",
    "def leapyear(year):\n",
    "    if year %400==0 or (year%100!=0 and year%4==0):\n",
    "        return True\n",
    "    return False\n",
    "leapyear(2021)"
   ]
  },
  {
   "cell_type": "code",
   "execution_count": null,
   "metadata": {},
   "outputs": [],
   "source": [
    "#leap year in range \n",
    "def leapyearsrange(start,end):\n",
    "    for i in range(start,end+1):\n",
    "        if leapyear(i):\n",
    "            print(i,end)\n",
    "start=int(input('start year'))\n",
    "end=int(input('end year'))\n",
    "leapyearsrange(start,end)"
   ]
  },
  {
   "cell_type": "markdown",
   "metadata": {},
   "source": [
    "## strings"
   ]
  },
  {
   "cell_type": "code",
   "execution_count": null,
   "metadata": {},
   "outputs": [],
   "source": [
    "def count(string):\n",
    "    a=n=s=0\n",
    "    for i in string:\n",
    "        if(i.isdigit()):\n",
    "            n=n+1\n",
    "        elif(i.isalpha()):\n",
    "            a=a+1\n",
    "        else:\n",
    "            s=s+1\n",
    "        print(\"characters are\",a)\n",
    "        print(\"digits are\",n)\n",
    "        print(\"sc are\",s)\n",
    "string=input()\n",
    "count(string)\n",
    "        "
   ]
  },
  {
   "cell_type": "code",
   "execution_count": null,
   "metadata": {},
   "outputs": [],
   "source": [
    "s=\"a p s s d c\"\n",
    "a=s.split()\n",
    "print(a)\n",
    "print(\"\".join(a).capitalize())"
   ]
  },
  {
   "cell_type": "markdown",
   "metadata": {},
   "source": [
    "# data structures\n",
    "store the data\n",
    "we can accewss data,cant workout on data\n",
    "types of ds\n",
    "list,tuple,dictionary,set"
   ]
  },
  {
   "cell_type": "code",
   "execution_count": null,
   "metadata": {},
   "outputs": [],
   "source": [
    "#list\n",
    "collection of heterogenous data\n",
    "ordered and mutable"
   ]
  },
  {
   "cell_type": "code",
   "execution_count": null,
   "metadata": {},
   "outputs": [],
   "source": [
    "## function tasks"
   ]
  },
  {
   "cell_type": "code",
   "execution_count": 19,
   "metadata": {},
   "outputs": [
    {
     "name": "stdout",
     "output_type": "stream",
     "text": [
      " 2\n",
      " 8\n"
     ]
    },
    {
     "data": {
      "text/plain": [
       "200"
      ]
     },
     "execution_count": 19,
     "metadata": {},
     "output_type": "execute_result"
    }
   ],
   "source": [
    "#average of cubes of all even numbers in range\n",
    "def cubes(s,e):\n",
    "    s1=c=0\n",
    "    for i in range(s,e+1):\n",
    "            if (i%2==0):\n",
    "                s1=s1+i**3\n",
    "                c=c+1\n",
    "    return s1//c\n",
    "s=int(input(' '))\n",
    "e=int(input(' '))\n",
    "cubes (s,e)"
   ]
  },
  {
   "cell_type": "markdown",
   "metadata": {},
   "source": [
    "### "
   ]
  },
  {
   "cell_type": "code",
   "execution_count": 48,
   "metadata": {},
   "outputs": [
    {
     "name": "stdout",
     "output_type": "stream",
     "text": [
      " 2\n",
      " 10\n"
     ]
    },
    {
     "data": {
      "text/plain": [
       "4"
      ]
     },
     "execution_count": 48,
     "metadata": {},
     "output_type": "execute_result"
    }
   ],
   "source": [
    "##average of first n prime numbers\n",
    "def prime(s,e):\n",
    "    f=s1=0\n",
    "    for i in range(s,e):\n",
    "        c=0\n",
    "        for j in range(1,i):\n",
    "            if(i%j==0):\n",
    "                c=c+1\n",
    "        if(c==1):\n",
    "            s1=s1+i\n",
    "            f=f+1\n",
    "    return s1//f\n",
    "s=int(input(' '))\n",
    "e=int(input(' '))\n",
    "prime(s,e)\n",
    "\n",
    "                \n",
    "        "
   ]
  },
  {
   "cell_type": "code",
   "execution_count": 32,
   "metadata": {},
   "outputs": [
    {
     "name": "stdout",
     "output_type": "stream",
     "text": [
      " 6\n",
      "6 is perfect\n"
     ]
    }
   ],
   "source": [
    "## perfect or not \n",
    "def perfect(n):\n",
    "    c=0\n",
    "    for i in range(1,n):\n",
    "        if(n%i==0):\n",
    "            c=c+i\n",
    "    if(c==n):\n",
    "        print(n,\"is perfect\")\n",
    "    else:\n",
    "        print(n,\"is not perfect\")\n",
    "n=int(input(\" \"))\n",
    "perfect(n)\n",
    "    "
   ]
  },
  {
   "cell_type": "code",
   "execution_count": 73,
   "metadata": {},
   "outputs": [
    {
     "name": "stdout",
     "output_type": "stream",
     "text": [
      "enter no2\n",
      "enter no10\n",
      "9  7  5  "
     ]
    },
    {
     "data": {
      "text/plain": [
       "2"
      ]
     },
     "execution_count": 73,
     "metadata": {},
     "output_type": "execute_result"
    }
   ],
   "source": [
    "####odd numbers in reverse range\n",
    "def reverse(s,e):\n",
    "    for i in range(e,s+1,-1):\n",
    "        if(i%2!=0):\n",
    "            print(i,end='  ' )\n",
    "                \n",
    "    return s\n",
    "s=int(input(\"enter no\"))\n",
    "e=int(input(\"enter no\"))\n",
    "reverse(s,e)\n",
    "                "
   ]
  },
  {
   "cell_type": "code",
   "execution_count": 31,
   "metadata": {},
   "outputs": [
    {
     "name": "stdout",
     "output_type": "stream",
     "text": [
      "p t h n "
     ]
    }
   ],
   "source": [
    "## i/p python\n",
    "##print even ascii characters from i/p\n",
    "def value(s):\n",
    "    s=\"python\"\n",
    "    for i in s:\n",
    "        if(ord(i)%2==0):\n",
    "            print(i,end=\" \")\n",
    "value(s)\n"
   ]
  },
  {
   "cell_type": "code",
   "execution_count": 29,
   "metadata": {},
   "outputs": [
    {
     "name": "stdout",
     "output_type": "stream",
     "text": [
      " python\n",
      "p t h n "
     ]
    }
   ],
   "source": [
    "## i/p python\n",
    "##print even ascii characters from i/p\n",
    "def value(s):\n",
    "    for i in s:\n",
    "        if(ord(i)%2==0):\n",
    "            print(i,end=\" \")\n",
    "s=(input(\" \"))\n",
    "value(s)\n"
   ]
  },
  {
   "cell_type": "code",
   "execution_count": 46,
   "metadata": {},
   "outputs": [
    {
     "name": "stdout",
     "output_type": "stream",
     "text": [
      "welcoming apssdc "
     ]
    }
   ],
   "source": [
    "#remove vowel at last of every word\n",
    "def vowel(x):\n",
    "        if (x=='a' or x=='e' or x=='i' or x=='o'or x=='u' or x=='A'or x=='E' or x=='I'or x=='O' or x=='U'):\n",
    "            return True\n",
    "        return False\n",
    "s=(\"welcoming you  to  the apssdc programme\")\n",
    "a=s.split()\n",
    "for i in (a):\n",
    "    if not(vowel(i[-1])):\n",
    "        print(i,end=' ')\n"
   ]
  },
  {
   "cell_type": "code",
   "execution_count": null,
   "metadata": {},
   "outputs": [],
   "source": []
  },
  {
   "cell_type": "code",
   "execution_count": null,
   "metadata": {},
   "outputs": [],
   "source": []
  },
  {
   "cell_type": "code",
   "execution_count": null,
   "metadata": {},
   "outputs": [],
   "source": []
  },
  {
   "cell_type": "code",
   "execution_count": null,
   "metadata": {},
   "outputs": [],
   "source": []
  }
 ],
 "metadata": {
  "kernelspec": {
   "display_name": "Python 3",
   "language": "python",
   "name": "python3"
  },
  "language_info": {
   "codemirror_mode": {
    "name": "ipython",
    "version": 3
   },
   "file_extension": ".py",
   "mimetype": "text/x-python",
   "name": "python",
   "nbconvert_exporter": "python",
   "pygments_lexer": "ipython3",
   "version": "3.8.5"
  }
 },
 "nbformat": 4,
 "nbformat_minor": 4
}
