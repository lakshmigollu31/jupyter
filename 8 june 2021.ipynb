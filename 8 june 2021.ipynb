{
 "cells": [
  {
   "cell_type": "markdown",
   "metadata": {},
   "source": [
    "# MARKDOWN BASICS FOR DOCUMENTATION"
   ]
  },
  {
   "cell_type": "markdown",
   "metadata": {},
   "source": [
    "# python     \n",
    "## python\n",
    "### python        (size decreased when we increase hashes,limit is 6 hashes only)\n",
    "#### python\n",
    "##### python\n",
    "###### python\n",
    "#######"
   ]
  },
  {
   "cell_type": "markdown",
   "metadata": {},
   "source": [
    "##   **bold**\n",
    "*Italic*\n"
   ]
  },
  {
   "cell_type": "markdown",
   "metadata": {},
   "source": [
    "1.class\n",
    "2.student\n",
    "3.attendance"
   ]
  },
  {
   "cell_type": "markdown",
   "metadata": {},
   "source": [
    "-  Normal Text\n",
    "     -sublist1\n",
    "     -sublist2\n",
    "       "
   ]
  },
  {
   "cell_type": "markdown",
   "metadata": {},
   "source": [
    "## inserting a code in markdown"
   ]
  },
  {
   "cell_type": "markdown",
   "metadata": {},
   "source": [
    "### (~~~ negotiation used to print line by line)\n",
    "~~~\n",
    "#include<stdio.h>\n",
    "int main()\n",
    "{\n",
    "printf(\"apssdc\")\n",
    "return 0;\n",
    "}\n",
    "~~~"
   ]
  },
  {
   "cell_type": "markdown",
   "metadata": {},
   "source": [
    "### creating tables\n",
    "|mov_name||Hero_name||heroine_name|\n",
    "|--------|----------|-------------|\n",
    "|bahubali|prabhas|anushka|\n",
    "|stalin|megastar|trisha|\n"
   ]
  },
  {
   "cell_type": "code",
   "execution_count": null,
   "metadata": {},
   "outputs": [],
   "source": [
    "### jupyter shortcuts\n",
    "- esc+m--->from code to markdown\n",
    "- esc+y--->viceversa\n",
    "- a--->insert cell above\n",
    "- b--->insert cell below\n",
    "- dd--->delete cell\n",
    "- shift+l--->provides/removes numbering to cell\n"
   ]
  },
  {
   "cell_type": "code",
   "execution_count": null,
   "metadata": {},
   "outputs": [],
   "source": [
    "## *python intro*\n",
    "-it is interpreted language means executes line by line\n",
    "-it is having diff libraries\n",
    "-object oriented programming\n",
    "\n",
    "## *python applications*\n",
    "\n",
    "-machine learning,AI,gaming,web development,software development\n",
    "\n",
    "## *features*\n",
    "\n",
    "-free and open sources\n",
    "\n",
    "## *python comments*\n",
    "-single line comments\n",
    "   -it is represented by hash(#)\n",
    "-multi line comments\n",
    "     -represnted by triple quotes(\"\"\" CODE \"\"\")\n"
   ]
  },
  {
   "cell_type": "code",
   "execution_count": 17,
   "metadata": {},
   "outputs": [
    {
     "name": "stdout",
     "output_type": "stream",
     "text": [
      "aju\n"
     ]
    }
   ],
   "source": [
    "## interpreted\n",
    "# ctrl+? used to comment no. of lines at a time\n",
    "# print('APSSDC')\n",
    "# print('nandini')\n",
    "print('aju')"
   ]
  },
  {
   "cell_type": "code",
   "execution_count": null,
   "metadata": {},
   "outputs": [],
   "source": [
    "-python basics\n",
    "   -variable\n",
    "    -keywords\n",
    "    -oprators"
   ]
  },
  {
   "cell_type": "markdown",
   "metadata": {},
   "source": [
    "-variables\n",
    "   -which is used to store values\n",
    "    -should not start with no.s and special symbols\n",
    "    -shouldnot start with keywords\n",
    "    "
   ]
  },
  {
   "cell_type": "code",
   "execution_count": 33,
   "metadata": {},
   "outputs": [
    {
     "name": "stdout",
     "output_type": "stream",
     "text": [
      "['False', 'None', 'True', 'and', 'as', 'assert', 'async', 'await', 'break', 'class', 'continue', 'def', 'del', 'elif', 'else', 'except', 'finally', 'for', 'from', 'global', 'if', 'import', 'in', 'is', 'lambda', 'nonlocal', 'not', 'or', 'pass', 'raise', 'return', 'try', 'while', 'with', 'yield']\n"
     ]
    }
   ],
   "source": [
    "import keyword\n",
    "print (keyword.kwlist)"
   ]
  },
  {
   "cell_type": "code",
   "execution_count": 34,
   "metadata": {},
   "outputs": [
    {
     "name": "stdout",
     "output_type": "stream",
     "text": [
      "35\n"
     ]
    }
   ],
   "source": [
    "import keyword\n",
    "print (len(keyword.kwlist))"
   ]
  },
  {
   "cell_type": "code",
   "execution_count": null,
   "metadata": {},
   "outputs": [],
   "source": []
  }
 ],
 "metadata": {
  "kernelspec": {
   "display_name": "Python 3",
   "language": "python",
   "name": "python3"
  },
  "language_info": {
   "codemirror_mode": {
    "name": "ipython",
    "version": 3
   },
   "file_extension": ".py",
   "mimetype": "text/x-python",
   "name": "python",
   "nbconvert_exporter": "python",
   "pygments_lexer": "ipython3",
   "version": "3.8.5"
  }
 },
 "nbformat": 4,
 "nbformat_minor": 4
}
