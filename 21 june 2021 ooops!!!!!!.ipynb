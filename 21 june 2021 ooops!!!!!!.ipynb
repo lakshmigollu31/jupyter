{
 "cells": [
  {
   "cell_type": "markdown",
   "metadata": {},
   "source": [
    "# oops\n"
   ]
  },
  {
   "cell_type": "code",
   "execution_count": null,
   "metadata": {},
   "outputs": [],
   "source": [
    "##intro\n",
    "oops initiated by alan kan\n",
    "with help of c++ \n",
    "furtherly it adopted by many programming languAGES\n",
    "#WHERE CAN WE USE OOPS\n",
    "1.real time systems\n",
    "2.artificial intelligence\n",
    "3.expert systems\n",
    "4.client-server systems\n",
    "object-oriented databases"
   ]
  },
  {
   "cell_type": "code",
   "execution_count": null,
   "metadata": {},
   "outputs": [],
   "source": [
    "#examples of oops languages\n",
    "1.c++\n",
    "2.java\n",
    "3.javascript\n",
    "4.python"
   ]
  },
  {
   "cell_type": "code",
   "execution_count": null,
   "metadata": {},
   "outputs": [],
   "source": [
    "#what is object oriented programmingi\n",
    "its a different method of structuring asoftware programming by bundling th\n",
    "properties and behaviours into individual objects\n",
    "-- its deals with classes and objects\n"
   ]
  },
  {
   "cell_type": "code",
   "execution_count": null,
   "metadata": {},
   "outputs": [],
   "source": [
    "#content of loops\n",
    "1.class\n",
    "object\n",
    "method\n",
    "inheritance\n",
    "--single\n",
    "   multi\n",
    "   heirarchical\n",
    "   multiple\n",
    "polymorphism\n",
    "compile time   -method overload\n",
    "run time   method overriding\n",
    "data encapsulation &data hiding"
   ]
  },
  {
   "cell_type": "code",
   "execution_count": null,
   "metadata": {},
   "outputs": [],
   "source": [
    "##class:\n",
    "a class is a collection of objects\n",
    "   or\n",
    "a class is blueprint of object"
   ]
  },
  {
   "cell_type": "code",
   "execution_count": null,
   "metadata": {},
   "outputs": [],
   "source": [
    "## how to create class\n",
    "class class_name:\n",
    "    #variables declaration\n",
    "    #constructor method\n",
    "    #methods"
   ]
  },
  {
   "cell_type": "code",
   "execution_count": null,
   "metadata": {},
   "outputs": [],
   "source": [
    "#object:(physical entity)\n",
    "an object(instance) of a class that follows class logic"
   ]
  },
  {
   "cell_type": "code",
   "execution_count": null,
   "metadata": {},
   "outputs": [],
   "source": [
    "# hpw to create objects\n",
    "class car:\n",
    "    #variables\n",
    "    #methods\n",
    "#objectvariable=classname()"
   ]
  },
  {
   "cell_type": "code",
   "execution_count": null,
   "metadata": {},
   "outputs": [],
   "source": []
  },
  {
   "cell_type": "code",
   "execution_count": null,
   "metadata": {},
   "outputs": [],
   "source": []
  },
  {
   "cell_type": "code",
   "execution_count": null,
   "metadata": {},
   "outputs": [],
   "source": []
  },
  {
   "cell_type": "code",
   "execution_count": null,
   "metadata": {},
   "outputs": [],
   "source": []
  }
 ],
 "metadata": {
  "kernelspec": {
   "display_name": "Python 3",
   "language": "python",
   "name": "python3"
  },
  "language_info": {
   "codemirror_mode": {
    "name": "ipython",
    "version": 3
   },
   "file_extension": ".py",
   "mimetype": "text/x-python",
   "name": "python",
   "nbconvert_exporter": "python",
   "pygments_lexer": "ipython3",
   "version": "3.8.5"
  }
 },
 "nbformat": 4,
 "nbformat_minor": 4
}
